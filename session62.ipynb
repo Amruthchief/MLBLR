{
  "nbformat": 4,
  "nbformat_minor": 0,
  "metadata": {
    "colab": {
      "name": "Copy of finalsession5.ipynb",
      "version": "0.3.2",
      "provenance": [],
      "collapsed_sections": [],
      "include_colab_link": true
    },
    "kernelspec": {
      "name": "python3",
      "display_name": "Python 3"
    },
    "accelerator": "GPU"
  },
  "cells": [
    {
      "cell_type": "markdown",
      "metadata": {
        "id": "view-in-github",
        "colab_type": "text"
      },
      "source": [
        "<a href=\"https://colab.research.google.com/github/Fuzz117/MLBLR/blob/master/session62.ipynb\" target=\"_parent\"><img src=\"https://colab.research.google.com/assets/colab-badge.svg\" alt=\"Open In Colab\"/></a>"
      ]
    },
    {
      "cell_type": "code",
      "metadata": {
        "id": "aPLpJzKpkJ7Q",
        "colab_type": "code",
        "outputId": "7e1186ed-aac4-4222-c071-7cd8e44735f8",
        "colab": {
          "base_uri": "https://localhost:8080/",
          "height": 34
        }
      },
      "source": [
        "\n",
        "import re\n",
        "import string\n",
        "from google.colab import drive\n",
        "drive.mount(\"/content/gdrive\")\n",
        "\n"
      ],
      "execution_count": 1,
      "outputs": [
        {
          "output_type": "stream",
          "text": [
            "Drive already mounted at /content/gdrive; to attempt to forcibly remount, call drive.mount(\"/content/gdrive\", force_remount=True).\n"
          ],
          "name": "stdout"
        }
      ]
    },
    {
      "cell_type": "code",
      "metadata": {
        "id": "qIEuQ_nqld4d",
        "colab_type": "code",
        "colab": {
          "base_uri": "https://localhost:8080/",
          "height": 34
        },
        "outputId": "40e37d19-25ce-4964-9660-de7fea0bb128"
      },
      "source": [
        "# Larger LSTM Network to Generate Text for Alice in Wonderland\n",
        "import numpy\n",
        "from keras.models import Sequential\n",
        "from keras.layers import Dense\n",
        "from keras.layers import Dropout\n",
        "from keras.layers import LSTM\n",
        "from keras.callbacks import ModelCheckpoint\n",
        "from keras.utils import np_utils"
      ],
      "execution_count": 2,
      "outputs": [
        {
          "output_type": "stream",
          "text": [
            "Using TensorFlow backend.\n"
          ],
          "name": "stderr"
        }
      ]
    },
    {
      "cell_type": "code",
      "metadata": {
        "id": "gXWoAyQnk5Uw",
        "colab_type": "code",
        "colab": {}
      },
      "source": [
        "filename = \"/content/gdrive/My Drive/Colab Notebooks/eip3p2/session6.txt\"\n",
        "raw_text = open(filename).read()\n",
        "raw_text = raw_text.lower()\n",
        "raw_text = re.sub('['+string.punctuation+']', '', raw_text)\n",
        "\n",
        "\n",
        "raw_text=raw_text.split(\"\\n\\n\")\n",
        "\n",
        "raw_text = [x for x in raw_text if x is not ''] \n",
        "\n"
      ],
      "execution_count": 0,
      "outputs": []
    },
    {
      "cell_type": "code",
      "metadata": {
        "id": "u8nGyRkdhdZQ",
        "colab_type": "code",
        "colab": {}
      },
      "source": [
        "N = 100\n",
        "new_text = []\n",
        "for text in raw_text:\n",
        "  text += ' ' * (N - len(text))\n",
        "  new_text.append(text)\n",
        "new_text = ' '.join(new_text)"
      ],
      "execution_count": 0,
      "outputs": []
    },
    {
      "cell_type": "code",
      "metadata": {
        "id": "Bfv1oyXvlzWp",
        "colab_type": "code",
        "colab": {}
      },
      "source": [
        "# create mapping of unique chars to integers, and a reverse mapping\n",
        "chars = sorted(list(set(new_text)))\n",
        "char_to_int = dict((c, i) for i, c in enumerate(chars))\n",
        "int_to_char = dict((i, c) for i, c in enumerate(chars))"
      ],
      "execution_count": 0,
      "outputs": []
    },
    {
      "cell_type": "code",
      "metadata": {
        "id": "Ts1vRmDqmHbx",
        "colab_type": "code",
        "outputId": "aa2fadf5-7021-4186-fbf2-7199f4b4214f",
        "colab": {
          "base_uri": "https://localhost:8080/",
          "height": 68
        }
      },
      "source": [
        "# summarize the loaded data\n",
        "n_chars = len(new_text)\n",
        "n_vocab = len(chars)\n",
        "print (\"Total Characters: \"), n_chars\n",
        "print (\"Total Vocab: \"), n_vocab\n",
        "print (chars)"
      ],
      "execution_count": 24,
      "outputs": [
        {
          "output_type": "stream",
          "text": [
            "Total Characters: \n",
            "Total Vocab: \n",
            "['\\n', ' ', '0', '3', 'a', 'b', 'c', 'd', 'e', 'f', 'g', 'h', 'i', 'j', 'k', 'l', 'm', 'n', 'o', 'p', 'q', 'r', 's', 't', 'u', 'v', 'w', 'x', 'y', 'z']\n"
          ],
          "name": "stdout"
        }
      ]
    },
    {
      "cell_type": "code",
      "metadata": {
        "id": "K2dKwz1tmg2g",
        "colab_type": "code",
        "outputId": "7039330c-1b04-4077-e396-058d155c7e52",
        "colab": {
          "base_uri": "https://localhost:8080/",
          "height": 51
        }
      },
      "source": [
        "# prepare the dataset of input to output pairs encoded as integers\n",
        "seq_length = 100\n",
        "dataX = []\n",
        "dataY = []\n",
        "for i in range(0, n_chars - seq_length, 1):\n",
        "\tseq_in = new_text[i:i + seq_length]\n",
        "\tseq_out = new_text[i + seq_length]\n",
        "\tdataX.append([char_to_int[char] for char in seq_in])\n",
        "\tdataY.append(char_to_int[seq_out])\n",
        "n_patterns = len(dataX)\n",
        "print(\"Total Patterns: \"), n_patterns"
      ],
      "execution_count": 25,
      "outputs": [
        {
          "output_type": "stream",
          "text": [
            "Total Patterns: \n"
          ],
          "name": "stdout"
        },
        {
          "output_type": "execute_result",
          "data": {
            "text/plain": [
              "(None, 151651)"
            ]
          },
          "metadata": {
            "tags": []
          },
          "execution_count": 25
        }
      ]
    },
    {
      "cell_type": "code",
      "metadata": {
        "id": "YsslHer5m_wU",
        "colab_type": "code",
        "colab": {}
      },
      "source": [
        "# reshape X to be [samples, time steps, features]\n",
        "X = numpy.reshape(dataX, (n_patterns, seq_length, 1))\n",
        "# normalize\n",
        "X = X / float(n_vocab)\n",
        "# one hot encode the output variable\n",
        "y = np_utils.to_categorical(dataY)"
      ],
      "execution_count": 0,
      "outputs": []
    },
    {
      "cell_type": "code",
      "metadata": {
        "id": "sekltZcCnC_p",
        "colab_type": "code",
        "colab": {}
      },
      "source": [
        "# define the LSTM model\n",
        "model = Sequential()\n",
        "model.add(LSTM(256, input_shape=(X.shape[1], X.shape[2]), return_sequences=True))\n",
        "model.add(Dropout(0.1))\n",
        "model.add(LSTM(256))\n",
        "\n",
        "model.add(Dense(y.shape[1], activation='softmax'))\n",
        "model.compile(loss='categorical_crossentropy', optimizer='adam', metrics=['accuracy'])"
      ],
      "execution_count": 0,
      "outputs": []
    },
    {
      "cell_type": "code",
      "metadata": {
        "id": "rcGcD1xUnNkE",
        "colab_type": "code",
        "outputId": "aed4e033-b2fd-45d6-f4ef-dc748997207a",
        "colab": {
          "base_uri": "https://localhost:8080/",
          "height": 272
        }
      },
      "source": [
        "model.summary()"
      ],
      "execution_count": 28,
      "outputs": [
        {
          "output_type": "stream",
          "text": [
            "_________________________________________________________________\n",
            "Layer (type)                 Output Shape              Param #   \n",
            "=================================================================\n",
            "lstm_3 (LSTM)                (None, 100, 256)          264192    \n",
            "_________________________________________________________________\n",
            "dropout_2 (Dropout)          (None, 100, 256)          0         \n",
            "_________________________________________________________________\n",
            "lstm_4 (LSTM)                (None, 256)               525312    \n",
            "_________________________________________________________________\n",
            "dense_2 (Dense)              (None, 30)                7710      \n",
            "=================================================================\n",
            "Total params: 797,214\n",
            "Trainable params: 797,214\n",
            "Non-trainable params: 0\n",
            "_________________________________________________________________\n"
          ],
          "name": "stdout"
        }
      ]
    },
    {
      "cell_type": "code",
      "metadata": {
        "id": "TnIQpc2snngo",
        "colab_type": "code",
        "colab": {}
      },
      "source": [
        "filepath=\"/content/gdrive/My Drive/Colab Notebooks/eip3p2/weights1.hdf5\"\n",
        "checkpoint = ModelCheckpoint(filepath, monitor='loss', verbose=1, save_best_only=True, mode='min')\n",
        "callbacks_list = [checkpoint]\n"
      ],
      "execution_count": 0,
      "outputs": []
    },
    {
      "cell_type": "code",
      "metadata": {
        "id": "Z6KGRyxQbB0u",
        "colab_type": "code",
        "colab": {}
      },
      "source": [
        "# model = create_model()\n",
        "# model.load_weights(\"/content/gdrive/My Drive/Colab Notebooks/eip3p2/weights1.hdf5\")\n"
      ],
      "execution_count": 0,
      "outputs": []
    },
    {
      "cell_type": "code",
      "metadata": {
        "id": "Js5qPgV4oRKf",
        "colab_type": "code",
        "outputId": "ad6121f1-b88a-4dfc-d56d-709b918b6660",
        "colab": {
          "base_uri": "https://localhost:8080/",
          "height": 1000
        }
      },
      "source": [
        "# fit the model\n",
        "model.fit(X, y, epochs=100, batch_size=1024, callbacks=callbacks_list)\n"
      ],
      "execution_count": 33,
      "outputs": [
        {
          "output_type": "stream",
          "text": [
            "Epoch 1/100\n",
            "151651/151651 [==============================] - 121s 795us/step - loss: 2.5870 - acc: 0.2788\n",
            "\n",
            "Epoch 00001: loss improved from 2.68608 to 2.58701, saving model to /content/gdrive/My Drive/Colab Notebooks/eip3p2/weights1.hdf5\n",
            "Epoch 2/100\n",
            "151651/151651 [==============================] - 121s 796us/step - loss: 2.5213 - acc: 0.2880\n",
            "\n",
            "Epoch 00002: loss improved from 2.58701 to 2.52131, saving model to /content/gdrive/My Drive/Colab Notebooks/eip3p2/weights1.hdf5\n",
            "Epoch 3/100\n",
            "151651/151651 [==============================] - 121s 797us/step - loss: 2.3835 - acc: 0.3386\n",
            "\n",
            "Epoch 00003: loss improved from 2.52131 to 2.38352, saving model to /content/gdrive/My Drive/Colab Notebooks/eip3p2/weights1.hdf5\n",
            "Epoch 4/100\n",
            "151651/151651 [==============================] - 121s 800us/step - loss: 2.2576 - acc: 0.3584\n",
            "\n",
            "Epoch 00004: loss improved from 2.38352 to 2.25764, saving model to /content/gdrive/My Drive/Colab Notebooks/eip3p2/weights1.hdf5\n",
            "Epoch 5/100\n",
            "151651/151651 [==============================] - 121s 801us/step - loss: 2.1754 - acc: 0.3755\n",
            "\n",
            "Epoch 00005: loss improved from 2.25764 to 2.17538, saving model to /content/gdrive/My Drive/Colab Notebooks/eip3p2/weights1.hdf5\n",
            "Epoch 6/100\n",
            "151651/151651 [==============================] - 121s 801us/step - loss: 2.0949 - acc: 0.3959\n",
            "\n",
            "Epoch 00006: loss improved from 2.17538 to 2.09488, saving model to /content/gdrive/My Drive/Colab Notebooks/eip3p2/weights1.hdf5\n",
            "Epoch 7/100\n",
            "151651/151651 [==============================] - 121s 801us/step - loss: 2.0228 - acc: 0.4128\n",
            "\n",
            "Epoch 00007: loss improved from 2.09488 to 2.02280, saving model to /content/gdrive/My Drive/Colab Notebooks/eip3p2/weights1.hdf5\n",
            "Epoch 8/100\n",
            "151651/151651 [==============================] - 121s 800us/step - loss: 1.9601 - acc: 0.4290\n",
            "\n",
            "Epoch 00008: loss improved from 2.02280 to 1.96008, saving model to /content/gdrive/My Drive/Colab Notebooks/eip3p2/weights1.hdf5\n",
            "Epoch 9/100\n",
            "151651/151651 [==============================] - 121s 801us/step - loss: 1.9066 - acc: 0.4441\n",
            "\n",
            "Epoch 00009: loss improved from 1.96008 to 1.90655, saving model to /content/gdrive/My Drive/Colab Notebooks/eip3p2/weights1.hdf5\n",
            "Epoch 10/100\n",
            "151651/151651 [==============================] - 122s 801us/step - loss: 1.8590 - acc: 0.4591\n",
            "\n",
            "Epoch 00010: loss improved from 1.90655 to 1.85900, saving model to /content/gdrive/My Drive/Colab Notebooks/eip3p2/weights1.hdf5\n",
            "Epoch 11/100\n",
            "151651/151651 [==============================] - 122s 801us/step - loss: 1.8148 - acc: 0.4741\n",
            "\n",
            "Epoch 00011: loss improved from 1.85900 to 1.81484, saving model to /content/gdrive/My Drive/Colab Notebooks/eip3p2/weights1.hdf5\n",
            "Epoch 12/100\n",
            "151651/151651 [==============================] - 122s 802us/step - loss: 1.7798 - acc: 0.4857\n",
            "\n",
            "Epoch 00012: loss improved from 1.81484 to 1.77976, saving model to /content/gdrive/My Drive/Colab Notebooks/eip3p2/weights1.hdf5\n",
            "Epoch 13/100\n",
            "151651/151651 [==============================] - 122s 803us/step - loss: 1.7419 - acc: 0.4971\n",
            "\n",
            "Epoch 00013: loss improved from 1.77976 to 1.74195, saving model to /content/gdrive/My Drive/Colab Notebooks/eip3p2/weights1.hdf5\n",
            "Epoch 14/100\n",
            "151651/151651 [==============================] - 122s 803us/step - loss: 1.7100 - acc: 0.5064\n",
            "\n",
            "Epoch 00014: loss improved from 1.74195 to 1.70998, saving model to /content/gdrive/My Drive/Colab Notebooks/eip3p2/weights1.hdf5\n",
            "Epoch 15/100\n",
            "151651/151651 [==============================] - 122s 803us/step - loss: 1.6845 - acc: 0.5138\n",
            "\n",
            "Epoch 00015: loss improved from 1.70998 to 1.68448, saving model to /content/gdrive/My Drive/Colab Notebooks/eip3p2/weights1.hdf5\n",
            "Epoch 16/100\n",
            "151651/151651 [==============================] - 122s 805us/step - loss: 1.6547 - acc: 0.5218\n",
            "\n",
            "Epoch 00016: loss improved from 1.68448 to 1.65472, saving model to /content/gdrive/My Drive/Colab Notebooks/eip3p2/weights1.hdf5\n",
            "Epoch 17/100\n",
            "151651/151651 [==============================] - 122s 805us/step - loss: 1.6274 - acc: 0.5299\n",
            "\n",
            "Epoch 00017: loss improved from 1.65472 to 1.62736, saving model to /content/gdrive/My Drive/Colab Notebooks/eip3p2/weights1.hdf5\n",
            "Epoch 18/100\n",
            "151651/151651 [==============================] - 122s 803us/step - loss: 1.6037 - acc: 0.5360\n",
            "\n",
            "Epoch 00018: loss improved from 1.62736 to 1.60372, saving model to /content/gdrive/My Drive/Colab Notebooks/eip3p2/weights1.hdf5\n",
            "Epoch 19/100\n",
            "151651/151651 [==============================] - 122s 803us/step - loss: 1.5799 - acc: 0.5431\n",
            "\n",
            "Epoch 00019: loss improved from 1.60372 to 1.57991, saving model to /content/gdrive/My Drive/Colab Notebooks/eip3p2/weights1.hdf5\n",
            "Epoch 20/100\n",
            "151651/151651 [==============================] - 122s 804us/step - loss: 1.5585 - acc: 0.5494\n",
            "\n",
            "Epoch 00020: loss improved from 1.57991 to 1.55848, saving model to /content/gdrive/My Drive/Colab Notebooks/eip3p2/weights1.hdf5\n",
            "Epoch 21/100\n",
            "151651/151651 [==============================] - 122s 805us/step - loss: 1.5398 - acc: 0.5545\n",
            "\n",
            "Epoch 00021: loss improved from 1.55848 to 1.53980, saving model to /content/gdrive/My Drive/Colab Notebooks/eip3p2/weights1.hdf5\n",
            "Epoch 22/100\n",
            "151651/151651 [==============================] - 122s 804us/step - loss: 1.5193 - acc: 0.5588\n",
            "\n",
            "Epoch 00022: loss improved from 1.53980 to 1.51935, saving model to /content/gdrive/My Drive/Colab Notebooks/eip3p2/weights1.hdf5\n",
            "Epoch 23/100\n",
            "151651/151651 [==============================] - 122s 806us/step - loss: 1.5013 - acc: 0.5644\n",
            "\n",
            "Epoch 00023: loss improved from 1.51935 to 1.50128, saving model to /content/gdrive/My Drive/Colab Notebooks/eip3p2/weights1.hdf5\n",
            "Epoch 24/100\n",
            "151651/151651 [==============================] - 122s 805us/step - loss: 1.4814 - acc: 0.5692\n",
            "\n",
            "Epoch 00024: loss improved from 1.50128 to 1.48137, saving model to /content/gdrive/My Drive/Colab Notebooks/eip3p2/weights1.hdf5\n",
            "Epoch 25/100\n",
            "151651/151651 [==============================] - 122s 804us/step - loss: 1.4641 - acc: 0.5743\n",
            "\n",
            "Epoch 00025: loss improved from 1.48137 to 1.46409, saving model to /content/gdrive/My Drive/Colab Notebooks/eip3p2/weights1.hdf5\n",
            "Epoch 26/100\n",
            "151651/151651 [==============================] - 122s 804us/step - loss: 1.4470 - acc: 0.5791\n",
            "\n",
            "Epoch 00026: loss improved from 1.46409 to 1.44695, saving model to /content/gdrive/My Drive/Colab Notebooks/eip3p2/weights1.hdf5\n",
            "Epoch 27/100\n",
            "151651/151651 [==============================] - 122s 804us/step - loss: 1.4314 - acc: 0.5832\n",
            "\n",
            "Epoch 00027: loss improved from 1.44695 to 1.43142, saving model to /content/gdrive/My Drive/Colab Notebooks/eip3p2/weights1.hdf5\n",
            "Epoch 28/100\n",
            "151651/151651 [==============================] - 122s 804us/step - loss: 1.4139 - acc: 0.5881\n",
            "\n",
            "Epoch 00028: loss improved from 1.43142 to 1.41385, saving model to /content/gdrive/My Drive/Colab Notebooks/eip3p2/weights1.hdf5\n",
            "Epoch 29/100\n",
            "151651/151651 [==============================] - 122s 804us/step - loss: 1.4006 - acc: 0.5915\n",
            "\n",
            "Epoch 00029: loss improved from 1.41385 to 1.40056, saving model to /content/gdrive/My Drive/Colab Notebooks/eip3p2/weights1.hdf5\n",
            "Epoch 30/100\n",
            "151651/151651 [==============================] - 122s 804us/step - loss: 1.3825 - acc: 0.5973\n",
            "\n",
            "Epoch 00030: loss improved from 1.40056 to 1.38254, saving model to /content/gdrive/My Drive/Colab Notebooks/eip3p2/weights1.hdf5\n",
            "Epoch 31/100\n",
            "151651/151651 [==============================] - 122s 803us/step - loss: 1.3683 - acc: 0.6006\n",
            "\n",
            "Epoch 00031: loss improved from 1.38254 to 1.36828, saving model to /content/gdrive/My Drive/Colab Notebooks/eip3p2/weights1.hdf5\n",
            "Epoch 32/100\n",
            "151651/151651 [==============================] - 122s 804us/step - loss: 1.3540 - acc: 0.6041\n",
            "\n",
            "Epoch 00032: loss improved from 1.36828 to 1.35400, saving model to /content/gdrive/My Drive/Colab Notebooks/eip3p2/weights1.hdf5\n",
            "Epoch 33/100\n",
            "151651/151651 [==============================] - 122s 805us/step - loss: 1.3394 - acc: 0.6073\n",
            "\n",
            "Epoch 00033: loss improved from 1.35400 to 1.33935, saving model to /content/gdrive/My Drive/Colab Notebooks/eip3p2/weights1.hdf5\n",
            "Epoch 34/100\n",
            "151651/151651 [==============================] - 122s 804us/step - loss: 1.3251 - acc: 0.6115\n",
            "\n",
            "Epoch 00034: loss improved from 1.33935 to 1.32506, saving model to /content/gdrive/My Drive/Colab Notebooks/eip3p2/weights1.hdf5\n",
            "Epoch 35/100\n",
            "151651/151651 [==============================] - 122s 805us/step - loss: 1.3072 - acc: 0.6165\n",
            "\n",
            "Epoch 00035: loss improved from 1.32506 to 1.30718, saving model to /content/gdrive/My Drive/Colab Notebooks/eip3p2/weights1.hdf5\n",
            "Epoch 36/100\n",
            "151651/151651 [==============================] - 122s 804us/step - loss: 1.2946 - acc: 0.6191\n",
            "\n",
            "Epoch 00036: loss improved from 1.30718 to 1.29457, saving model to /content/gdrive/My Drive/Colab Notebooks/eip3p2/weights1.hdf5\n",
            "Epoch 37/100\n",
            "151651/151651 [==============================] - 122s 804us/step - loss: 1.2793 - acc: 0.6246\n",
            "\n",
            "Epoch 00037: loss improved from 1.29457 to 1.27926, saving model to /content/gdrive/My Drive/Colab Notebooks/eip3p2/weights1.hdf5\n",
            "Epoch 38/100\n",
            "151651/151651 [==============================] - 122s 804us/step - loss: 1.2682 - acc: 0.6271\n",
            "\n",
            "Epoch 00038: loss improved from 1.27926 to 1.26818, saving model to /content/gdrive/My Drive/Colab Notebooks/eip3p2/weights1.hdf5\n",
            "Epoch 39/100\n",
            "151651/151651 [==============================] - 122s 805us/step - loss: 1.2520 - acc: 0.6306\n",
            "\n",
            "Epoch 00039: loss improved from 1.26818 to 1.25199, saving model to /content/gdrive/My Drive/Colab Notebooks/eip3p2/weights1.hdf5\n",
            "Epoch 40/100\n",
            "151651/151651 [==============================] - 122s 805us/step - loss: 1.2390 - acc: 0.6349\n",
            "\n",
            "Epoch 00040: loss improved from 1.25199 to 1.23896, saving model to /content/gdrive/My Drive/Colab Notebooks/eip3p2/weights1.hdf5\n",
            "Epoch 41/100\n",
            "151651/151651 [==============================] - 122s 806us/step - loss: 1.2214 - acc: 0.6398\n",
            "\n",
            "Epoch 00041: loss improved from 1.23896 to 1.22139, saving model to /content/gdrive/My Drive/Colab Notebooks/eip3p2/weights1.hdf5\n",
            "Epoch 42/100\n",
            "151651/151651 [==============================] - 122s 806us/step - loss: 1.2044 - acc: 0.6441\n",
            "\n",
            "Epoch 00042: loss improved from 1.22139 to 1.20438, saving model to /content/gdrive/My Drive/Colab Notebooks/eip3p2/weights1.hdf5\n",
            "Epoch 43/100\n",
            "151651/151651 [==============================] - 122s 807us/step - loss: 1.1911 - acc: 0.6480\n",
            "\n",
            "Epoch 00043: loss improved from 1.20438 to 1.19109, saving model to /content/gdrive/My Drive/Colab Notebooks/eip3p2/weights1.hdf5\n",
            "Epoch 44/100\n",
            "151651/151651 [==============================] - 122s 806us/step - loss: 1.1773 - acc: 0.6515\n",
            "\n",
            "Epoch 00044: loss improved from 1.19109 to 1.17733, saving model to /content/gdrive/My Drive/Colab Notebooks/eip3p2/weights1.hdf5\n",
            "Epoch 45/100\n",
            "151651/151651 [==============================] - 122s 804us/step - loss: 1.1618 - acc: 0.6550\n",
            "\n",
            "Epoch 00045: loss improved from 1.17733 to 1.16179, saving model to /content/gdrive/My Drive/Colab Notebooks/eip3p2/weights1.hdf5\n",
            "Epoch 46/100\n",
            "151651/151651 [==============================] - 122s 803us/step - loss: 1.1457 - acc: 0.6616\n",
            "\n",
            "Epoch 00046: loss improved from 1.16179 to 1.14573, saving model to /content/gdrive/My Drive/Colab Notebooks/eip3p2/weights1.hdf5\n",
            "Epoch 47/100\n",
            "151651/151651 [==============================] - 122s 802us/step - loss: 1.1270 - acc: 0.6660\n",
            "\n",
            "Epoch 00047: loss improved from 1.14573 to 1.12700, saving model to /content/gdrive/My Drive/Colab Notebooks/eip3p2/weights1.hdf5\n",
            "Epoch 48/100\n",
            "151651/151651 [==============================] - 121s 800us/step - loss: 1.1134 - acc: 0.6695\n",
            "\n",
            "Epoch 00048: loss improved from 1.12700 to 1.11336, saving model to /content/gdrive/My Drive/Colab Notebooks/eip3p2/weights1.hdf5\n",
            "Epoch 49/100\n",
            "151651/151651 [==============================] - 122s 802us/step - loss: 1.0972 - acc: 0.6742\n",
            "\n",
            "Epoch 00049: loss improved from 1.11336 to 1.09722, saving model to /content/gdrive/My Drive/Colab Notebooks/eip3p2/weights1.hdf5\n",
            "Epoch 50/100\n",
            "151651/151651 [==============================] - 121s 800us/step - loss: 1.0830 - acc: 0.6786\n",
            "\n",
            "Epoch 00050: loss improved from 1.09722 to 1.08304, saving model to /content/gdrive/My Drive/Colab Notebooks/eip3p2/weights1.hdf5\n",
            "Epoch 51/100\n",
            "151651/151651 [==============================] - 121s 798us/step - loss: 1.0635 - acc: 0.6835\n",
            "\n",
            "Epoch 00051: loss improved from 1.08304 to 1.06352, saving model to /content/gdrive/My Drive/Colab Notebooks/eip3p2/weights1.hdf5\n",
            "Epoch 52/100\n",
            "151651/151651 [==============================] - 122s 802us/step - loss: 1.0492 - acc: 0.6879\n",
            "\n",
            "Epoch 00052: loss improved from 1.06352 to 1.04925, saving model to /content/gdrive/My Drive/Colab Notebooks/eip3p2/weights1.hdf5\n",
            "Epoch 53/100\n",
            "151651/151651 [==============================] - 121s 801us/step - loss: 1.0360 - acc: 0.6901\n",
            "\n",
            "Epoch 00053: loss improved from 1.04925 to 1.03598, saving model to /content/gdrive/My Drive/Colab Notebooks/eip3p2/weights1.hdf5\n",
            "Epoch 54/100\n",
            "151651/151651 [==============================] - 121s 797us/step - loss: 1.0206 - acc: 0.6956\n",
            "\n",
            "Epoch 00054: loss improved from 1.03598 to 1.02060, saving model to /content/gdrive/My Drive/Colab Notebooks/eip3p2/weights1.hdf5\n",
            "Epoch 55/100\n",
            "151651/151651 [==============================] - 121s 797us/step - loss: 1.0015 - acc: 0.7009\n",
            "\n",
            "Epoch 00055: loss improved from 1.02060 to 1.00153, saving model to /content/gdrive/My Drive/Colab Notebooks/eip3p2/weights1.hdf5\n",
            "Epoch 56/100\n",
            "151651/151651 [==============================] - 121s 796us/step - loss: 0.9848 - acc: 0.7058\n",
            "\n",
            "Epoch 00056: loss improved from 1.00153 to 0.98477, saving model to /content/gdrive/My Drive/Colab Notebooks/eip3p2/weights1.hdf5\n",
            "Epoch 57/100\n",
            "151651/151651 [==============================] - 121s 796us/step - loss: 0.9713 - acc: 0.7094\n",
            "\n",
            "Epoch 00057: loss improved from 0.98477 to 0.97129, saving model to /content/gdrive/My Drive/Colab Notebooks/eip3p2/weights1.hdf5\n",
            "Epoch 58/100\n",
            "151651/151651 [==============================] - 122s 801us/step - loss: 0.9551 - acc: 0.7141\n",
            "\n",
            "Epoch 00058: loss improved from 0.97129 to 0.95513, saving model to /content/gdrive/My Drive/Colab Notebooks/eip3p2/weights1.hdf5\n",
            "Epoch 59/100\n",
            "151651/151651 [==============================] - 121s 799us/step - loss: 0.9392 - acc: 0.7183\n",
            "\n",
            "Epoch 00059: loss improved from 0.95513 to 0.93917, saving model to /content/gdrive/My Drive/Colab Notebooks/eip3p2/weights1.hdf5\n",
            "Epoch 60/100\n",
            "151651/151651 [==============================] - 121s 799us/step - loss: 0.9252 - acc: 0.7213\n",
            "\n",
            "Epoch 00060: loss improved from 0.93917 to 0.92524, saving model to /content/gdrive/My Drive/Colab Notebooks/eip3p2/weights1.hdf5\n",
            "Epoch 61/100\n",
            "151651/151651 [==============================] - 121s 801us/step - loss: 0.9083 - acc: 0.7274\n",
            "\n",
            "Epoch 00061: loss improved from 0.92524 to 0.90832, saving model to /content/gdrive/My Drive/Colab Notebooks/eip3p2/weights1.hdf5\n",
            "Epoch 62/100\n",
            "151651/151651 [==============================] - 122s 804us/step - loss: 0.8928 - acc: 0.7322\n",
            "\n",
            "Epoch 00062: loss improved from 0.90832 to 0.89276, saving model to /content/gdrive/My Drive/Colab Notebooks/eip3p2/weights1.hdf5\n",
            "Epoch 63/100\n",
            "151651/151651 [==============================] - 122s 807us/step - loss: 0.8771 - acc: 0.7371\n",
            "\n",
            "Epoch 00063: loss improved from 0.89276 to 0.87707, saving model to /content/gdrive/My Drive/Colab Notebooks/eip3p2/weights1.hdf5\n",
            "Epoch 64/100\n",
            "151651/151651 [==============================] - 122s 805us/step - loss: 0.8617 - acc: 0.7417\n",
            "\n",
            "Epoch 00064: loss improved from 0.87707 to 0.86171, saving model to /content/gdrive/My Drive/Colab Notebooks/eip3p2/weights1.hdf5\n",
            "Epoch 65/100\n",
            "151651/151651 [==============================] - 122s 806us/step - loss: 0.8480 - acc: 0.7448\n",
            "\n",
            "Epoch 00065: loss improved from 0.86171 to 0.84800, saving model to /content/gdrive/My Drive/Colab Notebooks/eip3p2/weights1.hdf5\n",
            "Epoch 66/100\n",
            "151651/151651 [==============================] - 122s 804us/step - loss: 0.8337 - acc: 0.7488\n",
            "\n",
            "Epoch 00066: loss improved from 0.84800 to 0.83372, saving model to /content/gdrive/My Drive/Colab Notebooks/eip3p2/weights1.hdf5\n",
            "Epoch 67/100\n",
            "151651/151651 [==============================] - 122s 803us/step - loss: 0.8143 - acc: 0.7548\n",
            "\n",
            "Epoch 00067: loss improved from 0.83372 to 0.81431, saving model to /content/gdrive/My Drive/Colab Notebooks/eip3p2/weights1.hdf5\n",
            "Epoch 68/100\n",
            "151651/151651 [==============================] - 122s 806us/step - loss: 0.8080 - acc: 0.7561\n",
            "\n",
            "Epoch 00068: loss improved from 0.81431 to 0.80797, saving model to /content/gdrive/My Drive/Colab Notebooks/eip3p2/weights1.hdf5\n",
            "Epoch 69/100\n",
            "151651/151651 [==============================] - 122s 804us/step - loss: 0.7955 - acc: 0.7591\n",
            "\n",
            "Epoch 00069: loss improved from 0.80797 to 0.79553, saving model to /content/gdrive/My Drive/Colab Notebooks/eip3p2/weights1.hdf5\n",
            "Epoch 70/100\n",
            "151651/151651 [==============================] - 122s 804us/step - loss: 0.7750 - acc: 0.7667\n",
            "\n",
            "Epoch 00070: loss improved from 0.79553 to 0.77503, saving model to /content/gdrive/My Drive/Colab Notebooks/eip3p2/weights1.hdf5\n",
            "Epoch 71/100\n",
            "151651/151651 [==============================] - 122s 804us/step - loss: 0.7650 - acc: 0.7692\n",
            "\n",
            "Epoch 00071: loss improved from 0.77503 to 0.76503, saving model to /content/gdrive/My Drive/Colab Notebooks/eip3p2/weights1.hdf5\n",
            "Epoch 72/100\n",
            "151651/151651 [==============================] - 122s 803us/step - loss: 0.7472 - acc: 0.7738\n",
            "\n",
            "Epoch 00072: loss improved from 0.76503 to 0.74720, saving model to /content/gdrive/My Drive/Colab Notebooks/eip3p2/weights1.hdf5\n",
            "Epoch 73/100\n",
            "151651/151651 [==============================] - 122s 803us/step - loss: 0.7358 - acc: 0.7766\n",
            "\n",
            "Epoch 00073: loss improved from 0.74720 to 0.73579, saving model to /content/gdrive/My Drive/Colab Notebooks/eip3p2/weights1.hdf5\n",
            "Epoch 74/100\n",
            "151651/151651 [==============================] - 122s 802us/step - loss: 0.7206 - acc: 0.7823\n",
            "\n",
            "Epoch 00074: loss improved from 0.73579 to 0.72060, saving model to /content/gdrive/My Drive/Colab Notebooks/eip3p2/weights1.hdf5\n",
            "Epoch 75/100\n",
            "151651/151651 [==============================] - 122s 802us/step - loss: 0.7141 - acc: 0.7834\n",
            "\n",
            "Epoch 00075: loss improved from 0.72060 to 0.71406, saving model to /content/gdrive/My Drive/Colab Notebooks/eip3p2/weights1.hdf5\n",
            "Epoch 76/100\n",
            "151651/151651 [==============================] - 122s 802us/step - loss: 0.6986 - acc: 0.7875\n",
            "\n",
            "Epoch 00076: loss improved from 0.71406 to 0.69855, saving model to /content/gdrive/My Drive/Colab Notebooks/eip3p2/weights1.hdf5\n",
            "Epoch 77/100\n",
            "151651/151651 [==============================] - 122s 802us/step - loss: 0.6864 - acc: 0.7917\n",
            "\n",
            "Epoch 00077: loss improved from 0.69855 to 0.68638, saving model to /content/gdrive/My Drive/Colab Notebooks/eip3p2/weights1.hdf5\n",
            "Epoch 78/100\n",
            "151651/151651 [==============================] - 122s 802us/step - loss: 0.6734 - acc: 0.7956\n",
            "\n",
            "Epoch 00078: loss improved from 0.68638 to 0.67337, saving model to /content/gdrive/My Drive/Colab Notebooks/eip3p2/weights1.hdf5\n",
            "Epoch 79/100\n",
            "151651/151651 [==============================] - 122s 801us/step - loss: 0.6619 - acc: 0.7988\n",
            "\n",
            "Epoch 00079: loss improved from 0.67337 to 0.66195, saving model to /content/gdrive/My Drive/Colab Notebooks/eip3p2/weights1.hdf5\n",
            "Epoch 80/100\n",
            "151651/151651 [==============================] - 122s 801us/step - loss: 0.6471 - acc: 0.8036\n",
            "\n",
            "Epoch 00080: loss improved from 0.66195 to 0.64712, saving model to /content/gdrive/My Drive/Colab Notebooks/eip3p2/weights1.hdf5\n",
            "Epoch 81/100\n",
            "151651/151651 [==============================] - 122s 804us/step - loss: 0.6391 - acc: 0.8051\n",
            "\n",
            "Epoch 00081: loss improved from 0.64712 to 0.63913, saving model to /content/gdrive/My Drive/Colab Notebooks/eip3p2/weights1.hdf5\n",
            "Epoch 82/100\n",
            "151651/151651 [==============================] - 122s 802us/step - loss: 0.6286 - acc: 0.8083\n",
            "\n",
            "Epoch 00082: loss improved from 0.63913 to 0.62858, saving model to /content/gdrive/My Drive/Colab Notebooks/eip3p2/weights1.hdf5\n",
            "Epoch 83/100\n",
            "151651/151651 [==============================] - 122s 803us/step - loss: 0.6154 - acc: 0.8119\n",
            "\n",
            "Epoch 00083: loss improved from 0.62858 to 0.61540, saving model to /content/gdrive/My Drive/Colab Notebooks/eip3p2/weights1.hdf5\n",
            "Epoch 84/100\n",
            "151651/151651 [==============================] - 122s 802us/step - loss: 0.6053 - acc: 0.8160\n",
            "\n",
            "Epoch 00084: loss improved from 0.61540 to 0.60533, saving model to /content/gdrive/My Drive/Colab Notebooks/eip3p2/weights1.hdf5\n",
            "Epoch 85/100\n",
            "151651/151651 [==============================] - 122s 801us/step - loss: 0.6019 - acc: 0.8156\n",
            "\n",
            "Epoch 00085: loss improved from 0.60533 to 0.60187, saving model to /content/gdrive/My Drive/Colab Notebooks/eip3p2/weights1.hdf5\n",
            "Epoch 86/100\n",
            "151651/151651 [==============================] - 122s 802us/step - loss: 0.5844 - acc: 0.8223\n",
            "\n",
            "Epoch 00086: loss improved from 0.60187 to 0.58435, saving model to /content/gdrive/My Drive/Colab Notebooks/eip3p2/weights1.hdf5\n",
            "Epoch 87/100\n",
            "151651/151651 [==============================] - 122s 802us/step - loss: 0.5770 - acc: 0.8231\n",
            "\n",
            "Epoch 00087: loss improved from 0.58435 to 0.57700, saving model to /content/gdrive/My Drive/Colab Notebooks/eip3p2/weights1.hdf5\n",
            "Epoch 88/100\n",
            "151651/151651 [==============================] - 122s 802us/step - loss: 0.5676 - acc: 0.8268\n",
            "\n",
            "Epoch 00088: loss improved from 0.57700 to 0.56757, saving model to /content/gdrive/My Drive/Colab Notebooks/eip3p2/weights1.hdf5\n",
            "Epoch 89/100\n",
            "151651/151651 [==============================] - 122s 801us/step - loss: 0.5584 - acc: 0.8284\n",
            "\n",
            "Epoch 00089: loss improved from 0.56757 to 0.55840, saving model to /content/gdrive/My Drive/Colab Notebooks/eip3p2/weights1.hdf5\n",
            "Epoch 90/100\n",
            "151651/151651 [==============================] - 122s 801us/step - loss: 0.5477 - acc: 0.8328\n",
            "\n",
            "Epoch 00090: loss improved from 0.55840 to 0.54766, saving model to /content/gdrive/My Drive/Colab Notebooks/eip3p2/weights1.hdf5\n",
            "Epoch 91/100\n",
            "151651/151651 [==============================] - 121s 801us/step - loss: 0.5351 - acc: 0.8362\n",
            "\n",
            "Epoch 00091: loss improved from 0.54766 to 0.53513, saving model to /content/gdrive/My Drive/Colab Notebooks/eip3p2/weights1.hdf5\n",
            "Epoch 92/100\n",
            "151651/151651 [==============================] - 122s 802us/step - loss: 0.5307 - acc: 0.8377\n",
            "\n",
            "Epoch 00092: loss improved from 0.53513 to 0.53070, saving model to /content/gdrive/My Drive/Colab Notebooks/eip3p2/weights1.hdf5\n",
            "Epoch 93/100\n",
            "151651/151651 [==============================] - 122s 803us/step - loss: 0.5178 - acc: 0.8406\n",
            "\n",
            "Epoch 00093: loss improved from 0.53070 to 0.51782, saving model to /content/gdrive/My Drive/Colab Notebooks/eip3p2/weights1.hdf5\n",
            "Epoch 94/100\n",
            "151651/151651 [==============================] - 122s 802us/step - loss: 0.5116 - acc: 0.8431\n",
            "\n",
            "Epoch 00094: loss improved from 0.51782 to 0.51161, saving model to /content/gdrive/My Drive/Colab Notebooks/eip3p2/weights1.hdf5\n",
            "Epoch 95/100\n",
            "151651/151651 [==============================] - 122s 802us/step - loss: 0.5023 - acc: 0.8469\n",
            "\n",
            "Epoch 00095: loss improved from 0.51161 to 0.50231, saving model to /content/gdrive/My Drive/Colab Notebooks/eip3p2/weights1.hdf5\n",
            "Epoch 96/100\n",
            "151651/151651 [==============================] - 121s 801us/step - loss: 0.4969 - acc: 0.8467\n",
            "\n",
            "Epoch 00096: loss improved from 0.50231 to 0.49694, saving model to /content/gdrive/My Drive/Colab Notebooks/eip3p2/weights1.hdf5\n",
            "Epoch 97/100\n",
            "151651/151651 [==============================] - 121s 801us/step - loss: 0.5034 - acc: 0.8434\n",
            "\n",
            "Epoch 00097: loss did not improve from 0.49694\n",
            "Epoch 98/100\n",
            "151651/151651 [==============================] - 122s 801us/step - loss: 0.4847 - acc: 0.8502\n",
            "\n",
            "Epoch 00098: loss improved from 0.49694 to 0.48472, saving model to /content/gdrive/My Drive/Colab Notebooks/eip3p2/weights1.hdf5\n",
            "Epoch 99/100\n",
            "151651/151651 [==============================] - 122s 802us/step - loss: 0.4671 - acc: 0.8569\n",
            "\n",
            "Epoch 00099: loss improved from 0.48472 to 0.46713, saving model to /content/gdrive/My Drive/Colab Notebooks/eip3p2/weights1.hdf5\n",
            "Epoch 100/100\n",
            "151651/151651 [==============================] - 122s 802us/step - loss: 0.4662 - acc: 0.8556\n",
            "\n",
            "Epoch 00100: loss improved from 0.46713 to 0.46616, saving model to /content/gdrive/My Drive/Colab Notebooks/eip3p2/weights1.hdf5\n"
          ],
          "name": "stdout"
        },
        {
          "output_type": "execute_result",
          "data": {
            "text/plain": [
              "<keras.callbacks.History at 0x7fa4c431a4e0>"
            ]
          },
          "metadata": {
            "tags": []
          },
          "execution_count": 33
        }
      ]
    },
    {
      "cell_type": "code",
      "metadata": {
        "id": "iSBZ9yc9DoGe",
        "colab_type": "code",
        "outputId": "10df3bbd-63f1-439f-db93-b0f29368148f",
        "colab": {
          "base_uri": "https://localhost:8080/",
          "height": 34
        }
      },
      "source": [
        "\n",
        "model.save(\"/content/gdrive/My Drive/Colab Notebooks/eip3p2/weights1.h5\",overwrite='true')\n",
        "print(\"Saved model to disk\")"
      ],
      "execution_count": 34,
      "outputs": [
        {
          "output_type": "stream",
          "text": [
            "Saved model to disk\n"
          ],
          "name": "stdout"
        }
      ]
    },
    {
      "cell_type": "code",
      "metadata": {
        "id": "goi0F8QEn3nB",
        "colab_type": "code",
        "outputId": "93af6ab2-4440-4079-892b-81ba9110eb02",
        "colab": {
          "base_uri": "https://localhost:8080/",
          "height": 122
        }
      },
      "source": [
        "# pick a random seed\n",
        "start = numpy.random.randint(0, len(dataX)-1)\n",
        "pattern = dataX[start]\n",
        "print(\"Seed:\")\n",
        "print (\"\\\"\", ''.join([int_to_char[value] for value in pattern]), \"\\\"\")\n",
        "# generate characters\n",
        "for i in range(500):\n",
        "\tx = numpy.reshape(pattern, (1, len(pattern), 1))\n",
        "\tx = x / float(n_vocab)\n",
        "\tprediction = model.predict(x, verbose=0)\n",
        "\tindex = numpy.argmax(prediction)\n",
        "\tresult = int_to_char[index]\n",
        "\tseq_in = [int_to_char[value] for value in pattern]\n",
        "\tprint(result,end='')\n",
        "\tpattern.append(index)\n",
        "\tpattern = pattern[1:len(pattern)]\n",
        "print(\"\\nDone.\")"
      ],
      "execution_count": 35,
      "outputs": [
        {
          "output_type": "stream",
          "text": [
            "Seed:\n",
            "\" ring\n",
            "itself upright as it spoke it was exactly three inches high but im not used to it pleaded poor  \"\n",
            "alice in a great hurry and their saie the cock in a thry nole of liven she euece in the mouse and jost as she sabbit began alice gallening the sight there was no time to be said to ierself as she said the queen thi macbit were all this time when they have to she shought that it might be lurt said the caterpillar                                                                             it isnt directed the kittle shisg rame mooe surned to alice replied                                         th\n",
            "Done.\n"
          ],
          "name": "stdout"
        }
      ]
    }
  ]
}